{
 "cells": [
  {
   "attachments": {},
   "cell_type": "markdown",
   "metadata": {},
   "source": [
    "## Import libraries"
   ]
  },
  {
   "cell_type": "code",
   "execution_count": 1,
   "metadata": {},
   "outputs": [
    {
     "name": "stderr",
     "output_type": "stream",
     "text": [
      "e:\\Github\\Dhaka-Weather-Forecasting\\mlapi\\Lib\\site-packages\\tqdm\\auto.py:21: TqdmWarning: IProgress not found. Please update jupyter and ipywidgets. See https://ipywidgets.readthedocs.io/en/stable/user_install.html\n",
      "  from .autonotebook import tqdm as notebook_tqdm\n",
      "Importing plotly failed. Interactive plots will not work.\n"
     ]
    }
   ],
   "source": [
    "import requests\n",
    "import pandas as pd\n",
    "from prophet import Prophet\n",
    "from datetime import datetime"
   ]
  },
  {
   "attachments": {},
   "cell_type": "markdown",
   "metadata": {},
   "source": [
    "## Collecting data using weather API\n",
    "\n",
    "Using the API I am collecting data from 01 Jan 2023 to 31 May 2023. Here only temperature data is collecting at 120 meters above ground. The website can be found [here.](https://open-meteo.com/en/docs#latitude=23.71&longitude=90.41&hourly=temperature_2m)"
   ]
  },
  {
   "cell_type": "code",
   "execution_count": 2,
   "metadata": {},
   "outputs": [],
   "source": [
    "# API endpoint and parameters\n",
    "api_url = \"https://api.open-meteo.com/v1/forecast\"\n",
    "latitude = 23.71\n",
    "longitude = 90.41\n",
    "start_date = \"2023-01-01\"\n",
    "end_date = \"2023-05-31\"\n",
    "parameters = \"temperature_120m\"  # hourly temperature data at 120 meters above ground\n",
    "\n",
    "# Construct the API request URL\n",
    "url = f\"{api_url}?latitude={latitude}&longitude={longitude}&hourly={parameters}&start_date={start_date}&end_date={end_date}\"\n",
    "# url = \"https://api.open-meteo.com/v1/forecast?latitude=23.71&longitude=90.41&hourly=temperature_120m&start_date=2022-06-08&end_date=2023-05-31\"\n",
    "\n",
    "# Make the API request\n",
    "response = requests.get(url)"
   ]
  },
  {
   "cell_type": "code",
   "execution_count": 3,
   "metadata": {},
   "outputs": [],
   "source": [
    "if response.status_code == 200:\n",
    "    data = response.json()\n",
    "    df = pd.DataFrame(data)\n",
    "\n",
    "else:\n",
    "    print(\"Failed to fetch weather data. Status code:\", response.status_code)"
   ]
  },
  {
   "cell_type": "code",
   "execution_count": 4,
   "metadata": {},
   "outputs": [
    {
     "data": {
      "text/html": [
       "<div>\n",
       "<style scoped>\n",
       "    .dataframe tbody tr th:only-of-type {\n",
       "        vertical-align: middle;\n",
       "    }\n",
       "\n",
       "    .dataframe tbody tr th {\n",
       "        vertical-align: top;\n",
       "    }\n",
       "\n",
       "    .dataframe thead th {\n",
       "        text-align: right;\n",
       "    }\n",
       "</style>\n",
       "<table border=\"1\" class=\"dataframe\">\n",
       "  <thead>\n",
       "    <tr style=\"text-align: right;\">\n",
       "      <th></th>\n",
       "      <th>time</th>\n",
       "      <th>temperature_120m</th>\n",
       "    </tr>\n",
       "  </thead>\n",
       "  <tbody>\n",
       "    <tr>\n",
       "      <th>latitude</th>\n",
       "      <td>23.75</td>\n",
       "      <td>23.75</td>\n",
       "    </tr>\n",
       "    <tr>\n",
       "      <th>longitude</th>\n",
       "      <td>90.375</td>\n",
       "      <td>90.375</td>\n",
       "    </tr>\n",
       "    <tr>\n",
       "      <th>generationtime_ms</th>\n",
       "      <td>43.970942</td>\n",
       "      <td>43.970942</td>\n",
       "    </tr>\n",
       "    <tr>\n",
       "      <th>utc_offset_seconds</th>\n",
       "      <td>0</td>\n",
       "      <td>0</td>\n",
       "    </tr>\n",
       "    <tr>\n",
       "      <th>timezone</th>\n",
       "      <td>GMT</td>\n",
       "      <td>GMT</td>\n",
       "    </tr>\n",
       "    <tr>\n",
       "      <th>timezone_abbreviation</th>\n",
       "      <td>GMT</td>\n",
       "      <td>GMT</td>\n",
       "    </tr>\n",
       "    <tr>\n",
       "      <th>elevation</th>\n",
       "      <td>16.0</td>\n",
       "      <td>16.0</td>\n",
       "    </tr>\n",
       "    <tr>\n",
       "      <th>hourly_units</th>\n",
       "      <td>iso8601</td>\n",
       "      <td>°C</td>\n",
       "    </tr>\n",
       "    <tr>\n",
       "      <th>hourly</th>\n",
       "      <td>[2023-01-01T00:00, 2023-01-01T01:00, 2023-01-0...</td>\n",
       "      <td>[16.5, 15.7, 15.2, 13.9, 14.8, 17.2, 17.9, 19....</td>\n",
       "    </tr>\n",
       "  </tbody>\n",
       "</table>\n",
       "</div>"
      ],
      "text/plain": [
       "                                                                    time  \\\n",
       "latitude                                                           23.75   \n",
       "longitude                                                         90.375   \n",
       "generationtime_ms                                              43.970942   \n",
       "utc_offset_seconds                                                     0   \n",
       "timezone                                                             GMT   \n",
       "timezone_abbreviation                                                GMT   \n",
       "elevation                                                           16.0   \n",
       "hourly_units                                                     iso8601   \n",
       "hourly                 [2023-01-01T00:00, 2023-01-01T01:00, 2023-01-0...   \n",
       "\n",
       "                                                        temperature_120m  \n",
       "latitude                                                           23.75  \n",
       "longitude                                                         90.375  \n",
       "generationtime_ms                                              43.970942  \n",
       "utc_offset_seconds                                                     0  \n",
       "timezone                                                             GMT  \n",
       "timezone_abbreviation                                                GMT  \n",
       "elevation                                                           16.0  \n",
       "hourly_units                                                          °C  \n",
       "hourly                 [16.5, 15.7, 15.2, 13.9, 14.8, 17.2, 17.9, 19....  "
      ]
     },
     "execution_count": 4,
     "metadata": {},
     "output_type": "execute_result"
    }
   ],
   "source": [
    "df.head().T     # showing collected data."
   ]
  },
  {
   "attachments": {},
   "cell_type": "markdown",
   "metadata": {},
   "source": [
    "## Data pre-processing\n",
    "\n",
    "The input to Prophet is always a dataframe with two columns: ds and y. The ds (datestamp) column should be of a format expected by Pandas, ideally YYYY-MM-DD for a date or YYYY-MM-DD HH:MM:SS for a timestamp. The y column must be numeric, and represents the measurement we wish to forecast."
   ]
  },
  {
   "cell_type": "code",
   "execution_count": 5,
   "metadata": {},
   "outputs": [
    {
     "data": {
      "text/plain": [
       "time                [2023-01-01T00:00, 2023-01-01T01:00, 2023-01-0...\n",
       "temperature_120m    [16.5, 15.7, 15.2, 13.9, 14.8, 17.2, 17.9, 19....\n",
       "Name: hourly, dtype: object"
      ]
     },
     "execution_count": 5,
     "metadata": {},
     "output_type": "execute_result"
    }
   ],
   "source": [
    "new_df = df[\"hourly\"]\n",
    "new_df.head()"
   ]
  },
  {
   "cell_type": "code",
   "execution_count": 6,
   "metadata": {},
   "outputs": [
    {
     "name": "stdout",
     "output_type": "stream",
     "text": [
      "(3624, 2)\n",
      "                 ds     y\n",
      "0  2023-01-01T00:00  16.5\n",
      "1  2023-01-01T01:00  15.7\n",
      "2  2023-01-01T02:00  15.2\n",
      "3  2023-01-01T03:00  13.9\n",
      "4  2023-01-01T04:00  14.8\n"
     ]
    }
   ],
   "source": [
    "dataset = {\n",
    "    \"ds\" : new_df[\"time\"],\n",
    "    \"y\" : new_df[\"temperature_120m\"]\n",
    "}\n",
    "\n",
    "dataset = pd.DataFrame.from_dict(dataset)\n",
    "print(dataset.shape)\n",
    "print(dataset.head())"
   ]
  },
  {
   "attachments": {},
   "cell_type": "markdown",
   "metadata": {},
   "source": [
    "Changing the date formate"
   ]
  },
  {
   "cell_type": "code",
   "execution_count": 7,
   "metadata": {},
   "outputs": [],
   "source": [
    "def convert_date(date_str):\n",
    "  '''\n",
    "  Change string date to YYYY-MM-DD HH:MM:SS format\n",
    "\n",
    "  Parameters\n",
    "  -------------\n",
    "  date_str (string): date as string\n",
    "  \n",
    "  Return:\n",
    "  -------------\n",
    "  return YYYY-MM-DD HH:MM:SS format date\n",
    "  '''\n",
    "  datetime_obj = datetime.strptime(date_str, \"%Y-%m-%dT%H:%M\")\n",
    "  formatted_date = datetime_obj.strftime(\"%Y-%m-%d %H:%M:%S\")\n",
    "  return formatted_date"
   ]
  },
  {
   "cell_type": "code",
   "execution_count": 8,
   "metadata": {},
   "outputs": [
    {
     "name": "stdout",
     "output_type": "stream",
     "text": [
      "(3624, 2)\n",
      "                    ds     y\n",
      "0  2023-01-01 00:00:00  16.5\n",
      "1  2023-01-01 01:00:00  15.7\n",
      "2  2023-01-01 02:00:00  15.2\n",
      "3  2023-01-01 03:00:00  13.9\n",
      "4  2023-01-01 04:00:00  14.8\n"
     ]
    }
   ],
   "source": [
    "dataset[\"ds\"] = dataset[\"ds\"].apply(convert_date)\n",
    "print(dataset.shape)\n",
    "print(dataset.head())"
   ]
  },
  {
   "attachments": {},
   "cell_type": "markdown",
   "metadata": {},
   "source": [
    "## Training Model\n",
    "\n",
    "Here I used a famous forecasting model named prophet. Prophet is a procedure for forecasting time series data based on an additive model where non-linear trends are fit with yearly, weekly, and daily seasonality, plus holiday effects. It works best with time series that have strong seasonal effects and several seasons of historical data. Prophet is robust to missing data and shifts in the trend, and typically handles outliers well.\n",
    "\n",
    "Prophet is open source software released by Facebook's Core Data Science team. It is available for download on CRAN and PyPI. The models documentation can be found [here.](https://facebook.github.io/prophet/)"
   ]
  },
  {
   "cell_type": "code",
   "execution_count": 9,
   "metadata": {},
   "outputs": [
    {
     "name": "stderr",
     "output_type": "stream",
     "text": [
      "01:19:30 - cmdstanpy - INFO - Chain [1] start processing\n",
      "01:19:30 - cmdstanpy - INFO - Chain [1] done processing\n"
     ]
    },
    {
     "data": {
      "text/plain": [
       "<prophet.forecaster.Prophet at 0x2228b656890>"
      ]
     },
     "execution_count": 9,
     "metadata": {},
     "output_type": "execute_result"
    }
   ],
   "source": [
    "model = Prophet()\n",
    "model.fit(dataset)"
   ]
  },
  {
   "attachments": {},
   "cell_type": "markdown",
   "metadata": {},
   "source": [
    "## Prediction"
   ]
  },
  {
   "cell_type": "code",
   "execution_count": 10,
   "metadata": {},
   "outputs": [
    {
     "name": "stdout",
     "output_type": "stream",
     "text": [
      "                   ds\n",
      "0 2024-01-01 04:00:00\n"
     ]
    }
   ],
   "source": [
    "predict_date = '2024-01-01 04:00:00'\n",
    "future = list()\n",
    "future.append([predict_date])\n",
    "future = pd.DataFrame(future)\n",
    "future.columns = ['ds']\n",
    "future['ds'] = pd.to_datetime(future['ds'])\n",
    "print(future.head())"
   ]
  },
  {
   "cell_type": "code",
   "execution_count": 11,
   "metadata": {},
   "outputs": [
    {
     "data": {
      "text/html": [
       "<div>\n",
       "<style scoped>\n",
       "    .dataframe tbody tr th:only-of-type {\n",
       "        vertical-align: middle;\n",
       "    }\n",
       "\n",
       "    .dataframe tbody tr th {\n",
       "        vertical-align: top;\n",
       "    }\n",
       "\n",
       "    .dataframe thead th {\n",
       "        text-align: right;\n",
       "    }\n",
       "</style>\n",
       "<table border=\"1\" class=\"dataframe\">\n",
       "  <thead>\n",
       "    <tr style=\"text-align: right;\">\n",
       "      <th></th>\n",
       "      <th>ds</th>\n",
       "      <th>yhat</th>\n",
       "      <th>yhat_lower</th>\n",
       "      <th>yhat_upper</th>\n",
       "    </tr>\n",
       "  </thead>\n",
       "  <tbody>\n",
       "    <tr>\n",
       "      <th>0</th>\n",
       "      <td>2024-01-01 04:00:00</td>\n",
       "      <td>25.343917</td>\n",
       "      <td>23.150401</td>\n",
       "      <td>27.656345</td>\n",
       "    </tr>\n",
       "  </tbody>\n",
       "</table>\n",
       "</div>"
      ],
      "text/plain": [
       "                   ds       yhat  yhat_lower  yhat_upper\n",
       "0 2024-01-01 04:00:00  25.343917   23.150401   27.656345"
      ]
     },
     "execution_count": 11,
     "metadata": {},
     "output_type": "execute_result"
    }
   ],
   "source": [
    "forecast = model.predict(pd.DataFrame.from_dict(future))\n",
    "forecast[['ds', 'yhat', 'yhat_lower', 'yhat_upper']]"
   ]
  },
  {
   "attachments": {},
   "cell_type": "markdown",
   "metadata": {},
   "source": [
    "## Save model\n"
   ]
  },
  {
   "cell_type": "code",
   "execution_count": 15,
   "metadata": {},
   "outputs": [],
   "source": [
    "from prophet.serialize import model_to_json\n",
    "\n",
    "with open('model.json', 'w') as fout:\n",
    "    fout.write(model_to_json(model))"
   ]
  }
 ],
 "metadata": {
  "kernelspec": {
   "display_name": "fastml",
   "language": "python",
   "name": "python3"
  },
  "language_info": {
   "codemirror_mode": {
    "name": "ipython",
    "version": 3
   },
   "file_extension": ".py",
   "mimetype": "text/x-python",
   "name": "python",
   "nbconvert_exporter": "python",
   "pygments_lexer": "ipython3",
   "version": "3.11.4"
  },
  "orig_nbformat": 4
 },
 "nbformat": 4,
 "nbformat_minor": 2
}
